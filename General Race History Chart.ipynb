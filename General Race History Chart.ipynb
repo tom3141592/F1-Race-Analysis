{
 "cells": [
  {
   "cell_type": "markdown",
   "metadata": {},
   "source": [
    "# General Race History Chart\n",
    "\n",
    "## 1. Introduction\n",
    "\n",
    "One file plot that's often seen as a very basic way to explain what happened in the race is the race history chart.\n",
    "On the x-axis, this plot has the starting grid followed by all the laps. On the y-axis, you have the position. Individual drivers are plotted in the teamcolor where teammates are distinguished by the linestyle.<br>\n",
    "It gives an idea about which drivers dominated the race and maybe stayed in the lead the whole race or which drivers recovered a lot of positions after a bad qualifying. Or likewise which drivers didn't have a very good race and dropped back.<br>\n",
    "It does however only give you the positions of each car at each lap in the race. It doesn't say anything about the gaps or what the reason for the position change was. To explore that more in detail, we would need a different plot such as the __race planner__."
   ]
  },
  {
   "cell_type": "code",
   "execution_count": 43,
   "metadata": {},
   "outputs": [],
   "source": [
    "import re\n",
    "\n",
    "from matplotlib import pyplot as plt\n",
    "import numpy as np\n",
    "import pandas as pd"
   ]
  },
  {
   "cell_type": "code",
   "execution_count": 44,
   "metadata": {},
   "outputs": [
    {
     "data": {
      "text/plain": [
       "<_sre.SRE_Match object; span=(0, 60), match='LAP 1 77 44 5 33 16 20 8 27 7 4 23 11 18 55 26 99>"
      ]
     },
     "execution_count": 44,
     "metadata": {},
     "output_type": "execute_result"
    }
   ],
   "source": [
    "grid_pattern = r\"^GRID (\\d{1,2} ){5,}\"\n",
    "lap_pattern = r\"^LAP \\d{1,2}( \\d{1,2})+$\"\n",
    "\n",
    "re.search(lap_pattern, \"LAP 1 77 44 5 33 16 20 8 27 7 4 23 11 18 55 26 99 10 63 88 3\")"
   ]
  },
  {
   "cell_type": "code",
   "execution_count": 49,
   "metadata": {},
   "outputs": [],
   "source": [
    "def get_starting_grid_order(line, expected_cars_at_grid):\n",
    "    line_split = line.split()\n",
    "    grid_order_strings = line_split[1:] # Leave out the word GRID which is at index 0.\n",
    "            \n",
    "    # Sanity check to see if 20 cars present. If for some reason a car didn't start or was disqualified,... we might notice it.\n",
    "    if len(grid_order_strings) != expected_cars_at_grid:\n",
    "        print(\"Different number of cars than expected on the grid!\")\n",
    "    else:\n",
    "        grid_order = [int(x) for x in grid_order_strings]\n",
    "        positions = {driver_num: (pos+1) for (pos, driver_num) in enumerate(grid_order)}\n",
    "        return grid_order, positions"
   ]
  },
  {
   "cell_type": "code",
   "execution_count": 50,
   "metadata": {},
   "outputs": [],
   "source": [
    "expected_cars_at_grid = 20\n",
    "filename = \"Race History Text File.txt\"\n",
    "positions = {}\n",
    "\n",
    "with open(filename) as file:\n",
    "    for line in file:\n",
    "        line = line.strip()\n",
    "        \n",
    "        # Look for the line with the Grid order in it. It always starts with GRID followed by the driver numbers.\n",
    "        # Still check to see what happens with cars starting from the pitlane.\n",
    "        if re.search(grid_pattern, line):\n",
    "            grid_order, positions = get_starting_grid_order(line, expected_cars_at_grid)\n",
    "        # If the line, starts with Lap, we can get (the lap number and) the order of the cars on that lap.\n",
    "        elif re.search(lap_pattern, line):\n",
    "            pass"
   ]
  },
  {
   "cell_type": "code",
   "execution_count": 51,
   "metadata": {},
   "outputs": [
    {
     "data": {
      "text/plain": [
       "{3: 12,\n",
       " 4: 8,\n",
       " 5: 3,\n",
       " 7: 9,\n",
       " 8: 6,\n",
       " 10: 17,\n",
       " 11: 10,\n",
       " 16: 5,\n",
       " 18: 16,\n",
       " 20: 7,\n",
       " 23: 13,\n",
       " 26: 15,\n",
       " 27: 11,\n",
       " 33: 4,\n",
       " 44: 1,\n",
       " 55: 18,\n",
       " 63: 19,\n",
       " 77: 2,\n",
       " 88: 20,\n",
       " 99: 14}"
      ]
     },
     "execution_count": 51,
     "metadata": {},
     "output_type": "execute_result"
    }
   ],
   "source": [
    "positions"
   ]
  },
  {
   "cell_type": "code",
   "execution_count": null,
   "metadata": {},
   "outputs": [],
   "source": []
  },
  {
   "cell_type": "code",
   "execution_count": null,
   "metadata": {},
   "outputs": [],
   "source": []
  }
 ],
 "metadata": {
  "kernelspec": {
   "display_name": "Python 3",
   "language": "python",
   "name": "python3"
  },
  "language_info": {
   "codemirror_mode": {
    "name": "ipython",
    "version": 3
   },
   "file_extension": ".py",
   "mimetype": "text/x-python",
   "name": "python",
   "nbconvert_exporter": "python",
   "pygments_lexer": "ipython3",
   "version": "3.6.4"
  }
 },
 "nbformat": 4,
 "nbformat_minor": 2
}
