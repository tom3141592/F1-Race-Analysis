{
 "cells": [
  {
   "cell_type": "markdown",
   "metadata": {},
   "source": [
    "# General Race History Chart\n",
    "\n",
    "## 1. Introduction\n",
    "\n",
    "One file plot that's often seen as a very basic way to explain what happened in the race is the race history chart.\n",
    "On the x-axis, this plot has the starting grid followed by all the laps. On the y-axis, you have the position. Individual drivers are plotted in the teamcolor where teammates are distinguished by the linestyle.<br>\n",
    "It gives an idea about which drivers dominated the race and maybe stayed in the lead the whole race or which drivers recovered a lot of positions after a bad qualifying. Or likewise which drivers didn't have a very good race and dropped back.<br>\n",
    "It does however only give you the positions of each car at each lap in the race. It doesn't say anything about the gaps or what the reason for the position change was. To explore that more in detail, we would need a different plot such as the __race planner__."
   ]
  },
  {
   "cell_type": "code",
   "execution_count": 2,
   "metadata": {},
   "outputs": [],
   "source": [
    "import re\n",
    "\n",
    "from matplotlib import pyplot as plt\n",
    "import numpy as np\n",
    "import pandas as pd"
   ]
  },
  {
   "cell_type": "code",
   "execution_count": 11,
   "metadata": {},
   "outputs": [
    {
     "data": {
      "text/plain": [
       "<_sre.SRE_Match object; span=(0, 60), match='LAP 1 77 44 5 33 16 20 8 27 7 4 23 11 18 55 26 99>"
      ]
     },
     "execution_count": 11,
     "metadata": {},
     "output_type": "execute_result"
    }
   ],
   "source": [
    "grid_pattern = r\"^GRID (\\d{1,2} ){5,}\"\n",
    "lap_pattern = r\"^LAP \\d{1,2}( \\d{1,2})+$\"\n",
    "\n",
    "re.search(lap_pattern, \"LAP 1 77 44 5 33 16 20 8 27 7 4 23 11 18 55 26 99 10 63 88 3\")"
   ]
  },
  {
   "cell_type": "code",
   "execution_count": 22,
   "metadata": {},
   "outputs": [],
   "source": [
    "filename = \"Race History Text File.txt\"\n",
    "\n",
    "with open(filename) as file:\n",
    "    for linenumber, line in enumerate(file):\n",
    "        line = line.strip()"
   ]
  },
  {
   "cell_type": "code",
   "execution_count": null,
   "metadata": {},
   "outputs": [],
   "source": []
  },
  {
   "cell_type": "code",
   "execution_count": null,
   "metadata": {},
   "outputs": [],
   "source": []
  },
  {
   "cell_type": "code",
   "execution_count": null,
   "metadata": {},
   "outputs": [],
   "source": []
  }
 ],
 "metadata": {
  "kernelspec": {
   "display_name": "Python 3",
   "language": "python",
   "name": "python3"
  },
  "language_info": {
   "codemirror_mode": {
    "name": "ipython",
    "version": 3
   },
   "file_extension": ".py",
   "mimetype": "text/x-python",
   "name": "python",
   "nbconvert_exporter": "python",
   "pygments_lexer": "ipython3",
   "version": "3.6.4"
  }
 },
 "nbformat": 4,
 "nbformat_minor": 2
}
